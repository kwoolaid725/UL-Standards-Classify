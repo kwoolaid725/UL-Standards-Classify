{
 "cells": [
  {
   "cell_type": "code",
   "execution_count": 3,
   "metadata": {
    "collapsed": true,
    "ExecuteTime": {
     "start_time": "2023-05-08T06:51:56.352354Z",
     "end_time": "2023-05-08T06:51:56.374645Z"
    }
   },
   "outputs": [
    {
     "data": {
      "text/plain": "  Standard_Number                                        Description   Label   \n0               1                Standard for Flexible Metal Conduit  Ed. 11  \\\n1               4                         Standard for Armored Cable  Ed. 15   \n2               5   Standard for Surface Metal Raceways And Fittings  Ed. 15   \n3              5A          Nonmetallic Surface Raceways And Fittings   Ed. 4   \n4              5B  Standard for Strut-Type Channel Raceways And F...   Ed. 2   \n\n  Catalog       Edition_Date   Type  English?  Category   \n0      UL  February 16, 2005  ulstd      True  Standard  \\\n1      UL   January 15, 2004  ulstd      True  Standard   \n2      UL       May 24, 2016  ulstd      True  Standard   \n3      UL      June 26, 2015  ulcsa      True       NaN   \n4      UL     April 14, 2004  ulstd      True  Standard   \n\n                                       Topic   \n0                     Flexible Metal Conduit  \\\n1                              Armored Cable   \n2        Surface Metal Raceways And Fittings   \n3  Nonmetallic Surface Raceways And Fittings   \n4   Strut-Type Channel Raceways And Fittings   \n\n                                    Keyword1                       Keyword2   \n0                     Flexible Metal Conduit                  Metal Conduit  \\\n1                              Armored Cable                          Cable   \n2        Surface Metal Raceways And Fittings    Metal Raceways And Fittings   \n3  Nonmetallic Surface Raceways And Fittings  Surface Raceways And Fittings   \n4   Strut-Type Channel Raceways And Fittings  Channel Raceways And Fittings   \n\n                       Keyword3               Keyword4          Keyword5  \n0                Flexible Metal                Conduit             Metal  \n1                       Armored                    NaN               NaN  \n2        Surface Metal Raceways  Raceways And Fittings    Metal Raceways  \n3  Nonmetallic Surface Raceways  Raceways And Fittings  Surface Raceways  \n4   Strut-Type Channel Raceways  Raceways And Fittings  Channel Raceways  ",
      "text/html": "<div>\n<style scoped>\n    .dataframe tbody tr th:only-of-type {\n        vertical-align: middle;\n    }\n\n    .dataframe tbody tr th {\n        vertical-align: top;\n    }\n\n    .dataframe thead th {\n        text-align: right;\n    }\n</style>\n<table border=\"1\" class=\"dataframe\">\n  <thead>\n    <tr style=\"text-align: right;\">\n      <th></th>\n      <th>Standard_Number</th>\n      <th>Description</th>\n      <th>Label</th>\n      <th>Catalog</th>\n      <th>Edition_Date</th>\n      <th>Type</th>\n      <th>English?</th>\n      <th>Category</th>\n      <th>Topic</th>\n      <th>Keyword1</th>\n      <th>Keyword2</th>\n      <th>Keyword3</th>\n      <th>Keyword4</th>\n      <th>Keyword5</th>\n    </tr>\n  </thead>\n  <tbody>\n    <tr>\n      <th>0</th>\n      <td>1</td>\n      <td>Standard for Flexible Metal Conduit</td>\n      <td>Ed. 11</td>\n      <td>UL</td>\n      <td>February 16, 2005</td>\n      <td>ulstd</td>\n      <td>True</td>\n      <td>Standard</td>\n      <td>Flexible Metal Conduit</td>\n      <td>Flexible Metal Conduit</td>\n      <td>Metal Conduit</td>\n      <td>Flexible Metal</td>\n      <td>Conduit</td>\n      <td>Metal</td>\n    </tr>\n    <tr>\n      <th>1</th>\n      <td>4</td>\n      <td>Standard for Armored Cable</td>\n      <td>Ed. 15</td>\n      <td>UL</td>\n      <td>January 15, 2004</td>\n      <td>ulstd</td>\n      <td>True</td>\n      <td>Standard</td>\n      <td>Armored Cable</td>\n      <td>Armored Cable</td>\n      <td>Cable</td>\n      <td>Armored</td>\n      <td>NaN</td>\n      <td>NaN</td>\n    </tr>\n    <tr>\n      <th>2</th>\n      <td>5</td>\n      <td>Standard for Surface Metal Raceways And Fittings</td>\n      <td>Ed. 15</td>\n      <td>UL</td>\n      <td>May 24, 2016</td>\n      <td>ulstd</td>\n      <td>True</td>\n      <td>Standard</td>\n      <td>Surface Metal Raceways And Fittings</td>\n      <td>Surface Metal Raceways And Fittings</td>\n      <td>Metal Raceways And Fittings</td>\n      <td>Surface Metal Raceways</td>\n      <td>Raceways And Fittings</td>\n      <td>Metal Raceways</td>\n    </tr>\n    <tr>\n      <th>3</th>\n      <td>5A</td>\n      <td>Nonmetallic Surface Raceways And Fittings</td>\n      <td>Ed. 4</td>\n      <td>UL</td>\n      <td>June 26, 2015</td>\n      <td>ulcsa</td>\n      <td>True</td>\n      <td>NaN</td>\n      <td>Nonmetallic Surface Raceways And Fittings</td>\n      <td>Nonmetallic Surface Raceways And Fittings</td>\n      <td>Surface Raceways And Fittings</td>\n      <td>Nonmetallic Surface Raceways</td>\n      <td>Raceways And Fittings</td>\n      <td>Surface Raceways</td>\n    </tr>\n    <tr>\n      <th>4</th>\n      <td>5B</td>\n      <td>Standard for Strut-Type Channel Raceways And F...</td>\n      <td>Ed. 2</td>\n      <td>UL</td>\n      <td>April 14, 2004</td>\n      <td>ulstd</td>\n      <td>True</td>\n      <td>Standard</td>\n      <td>Strut-Type Channel Raceways And Fittings</td>\n      <td>Strut-Type Channel Raceways And Fittings</td>\n      <td>Channel Raceways And Fittings</td>\n      <td>Strut-Type Channel Raceways</td>\n      <td>Raceways And Fittings</td>\n      <td>Channel Raceways</td>\n    </tr>\n  </tbody>\n</table>\n</div>"
     },
     "execution_count": 3,
     "metadata": {},
     "output_type": "execute_result"
    }
   ],
   "source": [
    "import pandas as pd\n",
    "import matplotlib as plt\n",
    "import numpy as np\n",
    "from matplotlib.colors import ListedColormap\n",
    "\n",
    "df = pd.read_csv('Preprocessed.csv')\n",
    "colnames = list(df.columns[1:-1])\n",
    "\n",
    "\n",
    "df.head()\n"
   ]
  },
  {
   "cell_type": "code",
   "execution_count": null,
   "outputs": [],
   "source": [
    "from sklearn.cluster import KMeans\n",
    "x = df.iloc[:, 1:-1]\n",
    "\n",
    "kmeans = KMeans(n_clusters=3, random_state=0).fit(df[colnames])\n"
   ],
   "metadata": {
    "collapsed": false
   }
  }
 ],
 "metadata": {
  "kernelspec": {
   "display_name": "Python 3",
   "language": "python",
   "name": "python3"
  },
  "language_info": {
   "codemirror_mode": {
    "name": "ipython",
    "version": 2
   },
   "file_extension": ".py",
   "mimetype": "text/x-python",
   "name": "python",
   "nbconvert_exporter": "python",
   "pygments_lexer": "ipython2",
   "version": "2.7.6"
  }
 },
 "nbformat": 4,
 "nbformat_minor": 0
}
