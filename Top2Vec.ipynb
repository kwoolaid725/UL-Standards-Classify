{
 "cells": [
  {
   "cell_type": "code",
   "execution_count": 30,
   "metadata": {
    "collapsed": true,
    "ExecuteTime": {
     "start_time": "2023-05-07T16:45:25.357816Z",
     "end_time": "2023-05-07T16:45:25.377787Z"
    }
   },
   "outputs": [
    {
     "data": {
      "text/plain": "2123"
     },
     "execution_count": 30,
     "metadata": {},
     "output_type": "execute_result"
    }
   ],
   "source": [
    "import pandas as pd\n",
    "\n",
    "df = pd.read_csv('UL-Standards-List.csv')\n",
    "# drop rows with no description\n",
    "df = df.dropna(subset=['Description'])\n",
    "len(df)\n",
    "# df.head()\n"
   ]
  },
  {
   "cell_type": "code",
   "execution_count": 31,
   "outputs": [],
   "source": [
    "# Description to Title Case since there are some descriptions that are all caps\n",
    "df['Description'] = df['Description'].str.title()\n",
    "\n",
    "\n",
    "\n"
   ],
   "metadata": {
    "collapsed": false,
    "ExecuteTime": {
     "start_time": "2023-05-07T16:45:25.815491Z",
     "end_time": "2023-05-07T16:45:25.817453Z"
    }
   }
  },
  {
   "cell_type": "code",
   "execution_count": 32,
   "outputs": [
    {
     "data": {
      "text/plain": "'Standard Method Of Test For Ignition Resistance Of Loose Fill Insulation (Cigarette Method) / Standard Method Of Test For Ignition Resistance Of Loose Fill Insulation (Cigarette Method)'"
     },
     "execution_count": 32,
     "metadata": {},
     "output_type": "execute_result"
    }
   ],
   "source": [
    "\n",
    "df.iloc[144]['Description']"
   ],
   "metadata": {
    "collapsed": false,
    "ExecuteTime": {
     "start_time": "2023-05-07T16:45:26.169572Z",
     "end_time": "2023-05-07T16:45:26.173067Z"
    }
   }
  },
  {
   "cell_type": "code",
   "execution_count": 33,
   "outputs": [
    {
     "data": {
      "text/plain": "'Standard For Category 3 Film-Forming Fluoroprotein (Fffp) Foam Liquid Concentrates'"
     },
     "execution_count": 33,
     "metadata": {},
     "output_type": "execute_result"
    }
   ],
   "source": [
    "# Removing duplicates in the description separated by ' / '\n",
    "def remove_duplicates(string):\n",
    "    words = string.split(' / ')\n",
    "    result = []\n",
    "    for word in words:\n",
    "        if word not in result:\n",
    "            result.append(word)\n",
    "    return ' / '.join(result)  # nothing to join if there are no duplicates\n",
    "\n",
    "df['Description'] = df['Description'].apply(remove_duplicates)\n",
    "df.iloc[570]['Description']"
   ],
   "metadata": {
    "collapsed": false,
    "ExecuteTime": {
     "start_time": "2023-05-07T16:45:28.356834Z",
     "end_time": "2023-05-07T16:45:28.361018Z"
    }
   }
  },
  {
   "cell_type": "code",
   "execution_count": 34,
   "outputs": [],
   "source": [
    "# Look for non-English descriptions\n",
    "def isEnglish(s):\n",
    "    return s.isascii()\n",
    "\n",
    "df['English?'] = df['Description'].apply(isEnglish)\n"
   ],
   "metadata": {
    "collapsed": false,
    "ExecuteTime": {
     "start_time": "2023-05-07T16:45:29.180537Z",
     "end_time": "2023-05-07T16:45:29.183665Z"
    }
   }
  },
  {
   "cell_type": "code",
   "execution_count": 35,
   "outputs": [],
   "source": [
    "df['Category'] = ''\n",
    "df['Topic'] = ''"
   ],
   "metadata": {
    "collapsed": false,
    "ExecuteTime": {
     "start_time": "2023-05-07T16:45:30.192320Z",
     "end_time": "2023-05-07T16:45:30.198097Z"
    }
   }
  },
  {
   "cell_type": "code",
   "execution_count": 36,
   "outputs": [],
   "source": [
    "# Remove non-English descriptions\n",
    "for idx, row in df.iterrows():\n",
    "    if row['English?'] == False:\n",
    "        split_description = row['Description'].split(' / ', maxsplit=1)\n",
    "        if len(split_description) > 1:\n",
    "            df.at[idx, 'Topic'] = split_description[0]\n",
    "        else:\n",
    "            df.at[idx, 'Topic'] = row['Description']\n",
    "    else:\n",
    "        df.at[idx, 'Topic'] = row['Description']\n",
    "\n"
   ],
   "metadata": {
    "collapsed": false,
    "ExecuteTime": {
     "start_time": "2023-05-07T16:45:30.663406Z",
     "end_time": "2023-05-07T16:45:30.707747Z"
    }
   }
  },
  {
   "cell_type": "code",
   "execution_count": 37,
   "outputs": [],
   "source": [
    "import re\n",
    "\n",
    "# Split at ';' or ':' or '-'\n",
    "def split_topic_punc(string):\n",
    "    split_string = re.split(';|:| - ', row['Topic'], maxsplit=1)\n",
    "    if len(split_string) > 1:\n",
    "        return split_string\n",
    "    else:\n",
    "        return string\n",
    "\n",
    "for idx, row in df.iterrows():\n",
    "    df.at[idx, 'Category'] = split_topic_punc(row['Topic'])[0]\n",
    "    df.at[idx, 'Topic'] = split_topic_punc(row['Topic'])[1]\n"
   ],
   "metadata": {
    "collapsed": false,
    "ExecuteTime": {
     "start_time": "2023-05-07T16:45:34.062435Z",
     "end_time": "2023-05-07T16:45:34.082374Z"
    }
   }
  },
  {
   "cell_type": "code",
   "execution_count": 39,
   "outputs": [
    {
     "data": {
      "text/plain": "'Ieee/Ul Wireless Diabetes Device Security'"
     },
     "execution_count": 39,
     "metadata": {},
     "output_type": "execute_result"
    }
   ],
   "source": [
    "df['Category'][1505]"
   ],
   "metadata": {
    "collapsed": false,
    "ExecuteTime": {
     "start_time": "2023-05-07T16:45:52.392195Z",
     "end_time": "2023-05-07T16:45:52.393384Z"
    }
   }
  },
  {
   "cell_type": "code",
   "execution_count": null,
   "outputs": [],
   "source": [
    "\n",
    "def find_words_in_description(string, words, stop_chars):\n",
    "    if stop_chars:\n",
    "        # Find the index of the first occurrence of any of the stop characters\n",
    "        stop_index = re.search(stop_chars, string)\n",
    "        if stop_index:\n",
    "            # Only search for words in the part of the string before the stop character\n",
    "            string = string[:stop_index.start()]\n",
    "    start_index = 0\n",
    "    found_word = ''\n",
    "    for word in words:\n",
    "        i = string.find(word, start_index)\n",
    "        if i != -1:\n",
    "            start_index = i + len(word)\n",
    "            found_word = found_word + ' ' + word\n",
    "        else:\n",
    "            start_index = start_index\n",
    "    return (start_index, found_word)\n",
    "\n",
    "words = ['Standard', 'Method', 'Test', 'Outline', 'Guide', 'Guidance', 'Criteria', 'Procedure', 'Rule', 'Requirement']\n",
    "stop_chars = '[,;:]'\n",
    "\n",
    "for idx, row in df.iterrows():\n",
    "    i = find_words_in_description(row['Topic'], words, stop_chars=stop_chars)[0]\n",
    "    final_word = find_words_in_description(row['Topic'], words, stop_chars=stop_chars)[1]\n",
    "    print(i, final_word)\n",
    "    if final_word != '':\n",
    "        df.at[idx, 'Category'] = final_word\n",
    "        split_topic_desc = re.split(' For | Of ', row['Topic'][i:], maxsplit=1)\n",
    "        # join the word in description before the split if not in the list of words\n",
    "\n",
    "        print(split_topic_desc)\n",
    "        if len(split_topic_desc) > 1:\n",
    "            lost_words = [word for word in row['Topic'][:i] if word not in words]\n",
    "            new_string = ''.join(lost_words)\n",
    "            df.at[idx, 'Category'] = new_string\n",
    "            df.at[idx, 'Topic'] = split_topic_desc[1]\n",
    "\n",
    "    else:\n",
    "        pass"
   ],
   "metadata": {
    "collapsed": false
   }
  },
  {
   "cell_type": "code",
   "execution_count": 32,
   "outputs": [],
   "source": [
    "for index, row in df.iterrows():\n",
    "    i = row['Description'].find('Standard')\n",
    "\n",
    "    if i != -1:\n",
    "        df.at[index, 'Category'] = 'Standard'\n",
    "        split_description = row['Description'][i+8:].split(' For ', maxsplit=1)\n",
    "        if len(split_description) > 1:\n",
    "            print(split_description)\n",
    "            df.at[index, 'Topic'] = split_description[1]\n",
    "    else:\n",
    "        df.at[index, 'Description'] = row['Description']\n",
    "df"
   ],
   "metadata": {
    "collapsed": false,
    "ExecuteTime": {
     "start_time": "2023-05-07T16:25:09.928849Z",
     "end_time": "2023-05-07T16:25:09.935332Z"
    }
   }
  },
  {
   "cell_type": "code",
   "execution_count": 33,
   "outputs": [],
   "source": [],
   "metadata": {
    "collapsed": false,
    "ExecuteTime": {
     "start_time": "2023-05-07T16:25:54.722527Z",
     "end_time": "2023-05-07T16:25:54.737489Z"
    }
   }
  },
  {
   "cell_type": "code",
   "execution_count": 4,
   "outputs": [
    {
     "name": "stderr",
     "output_type": "stream",
     "text": [
      "\n",
      "KeyboardInterrupt\n",
      "\n"
     ]
    }
   ],
   "source": [
    "# from top2vec import Top2Vec\n",
    "# model = Top2Vec(documents=df['Description'].tolist())\n"
   ],
   "metadata": {
    "collapsed": false,
    "ExecuteTime": {
     "start_time": "2023-05-05T15:34:49.662084Z",
     "end_time": "2023-05-05T15:34:49.665318Z"
    }
   }
  },
  {
   "cell_type": "code",
   "execution_count": 38,
   "outputs": [],
   "source": [],
   "metadata": {
    "collapsed": false,
    "ExecuteTime": {
     "start_time": "2023-05-05T15:31:10.875404Z",
     "end_time": "2023-05-05T15:31:10.881012Z"
    }
   }
  }
 ],
 "metadata": {
  "kernelspec": {
   "display_name": "Python 3",
   "language": "python",
   "name": "python3"
  },
  "language_info": {
   "codemirror_mode": {
    "name": "ipython",
    "version": 2
   },
   "file_extension": ".py",
   "mimetype": "text/x-python",
   "name": "python",
   "nbconvert_exporter": "python",
   "pygments_lexer": "ipython2",
   "version": "2.7.6"
  }
 },
 "nbformat": 4,
 "nbformat_minor": 0
}
